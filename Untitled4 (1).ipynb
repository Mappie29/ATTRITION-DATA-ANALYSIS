{
  "nbformat": 4,
  "nbformat_minor": 0,
  "metadata": {
    "colab": {
      "name": "Untitled4.ipynb",
      "provenance": [],
      "collapsed_sections": []
    },
    "kernelspec": {
      "name": "python3",
      "display_name": "Python 3"
    },
    "language_info": {
      "name": "python"
    }
  },
  "cells": [
    {
      "cell_type": "code",
      "metadata": {
        "id": "Z2TGdh6o5Uny"
      },
      "source": [
        ""
      ],
      "execution_count": null,
      "outputs": []
    },
    {
      "cell_type": "markdown",
      "metadata": {
        "id": "KSuxF4VL5Vo3"
      },
      "source": [
        "**DATA PREPARATION**"
      ]
    },
    {
      "cell_type": "code",
      "metadata": {
        "id": "SE0UrM1Q1jFV"
      },
      "source": [
        "import pandas as pd\n",
        "import numpy as np\n",
        "from matplotlib import pyplot as plt\n",
        "%matplotlib inline\n",
        "import seaborn as sns\n",
        "sns.set()"
      ],
      "execution_count": null,
      "outputs": []
    },
    {
      "cell_type": "code",
      "metadata": {
        "id": "y0WxOlZg1mqH"
      },
      "source": [
        "main_data = pd.read_csv('Attrition_data.csv')"
      ],
      "execution_count": null,
      "outputs": []
    },
    {
      "cell_type": "code",
      "metadata": {
        "id": "FHfuij3t1p38"
      },
      "source": [
        "main_data.head()"
      ],
      "execution_count": null,
      "outputs": []
    },
    {
      "cell_type": "code",
      "metadata": {
        "id": "je7PWkhw1r8z"
      },
      "source": [
        "location_clean = pd.read_csv('location_clean.csv')\n",
        "location_clean.head()"
      ],
      "execution_count": null,
      "outputs": []
    },
    {
      "cell_type": "code",
      "metadata": {
        "id": "F6s3Vhww1xUH"
      },
      "source": [
        "data = pd.merge(main_data, location_clean, how= 'inner',left_on = 'S.No', right_on='id' )\n",
        "data.drop('id',axis =1, inplace = True)\n",
        "data.head()"
      ],
      "execution_count": null,
      "outputs": []
    },
    {
      "cell_type": "code",
      "metadata": {
        "id": "K_qYSAMd1z6O"
      },
      "source": [
        "assert location_clean.shape[0] == data.shape[0]"
      ],
      "execution_count": null,
      "outputs": []
    },
    {
      "cell_type": "code",
      "metadata": {
        "id": "XqvlNbQn12ES"
      },
      "source": [
        "data.shape"
      ],
      "execution_count": null,
      "outputs": []
    },
    {
      "cell_type": "markdown",
      "metadata": {
        "id": "eVwjGSRh5ekw"
      },
      "source": [
        "**Converting the columns into right datatypes and extracting data**"
      ]
    },
    {
      "cell_type": "code",
      "metadata": {
        "id": "OKqrODcF116q"
      },
      "source": [
        "data = data.rename(columns = {'Engagement Score (% Satisfaction)':'sat_score'})\n",
        "data['sat_score'] = data['sat_score'].apply(lambda x:x[:-1])\n",
        "data.head()"
      ],
      "execution_count": null,
      "outputs": []
    },
    {
      "cell_type": "code",
      "metadata": {
        "id": "NrQxzNYs11vE"
      },
      "source": [
        "data['sat_score'] = data['sat_score'].astype('int')"
      ],
      "execution_count": null,
      "outputs": []
    },
    {
      "cell_type": "code",
      "metadata": {
        "id": "sHRvWUzi11g7"
      },
      "source": [
        "data.isna().sum().sum()"
      ],
      "execution_count": null,
      "outputs": []
    },
    {
      "cell_type": "code",
      "metadata": {
        "id": "ZKDkkAFI11T3"
      },
      "source": [
        "data.isna().sum()"
      ],
      "execution_count": null,
      "outputs": []
    },
    {
      "cell_type": "code",
      "metadata": {
        "id": "YbYEfUS72I-g"
      },
      "source": [
        "data = data[data['doubtful']=='NO']\n",
        "data.isna().sum()"
      ],
      "execution_count": null,
      "outputs": []
    },
    {
      "cell_type": "code",
      "metadata": {
        "id": "abhxeEZP2I7Y"
      },
      "source": [
        "np.where(data.isna())"
      ],
      "execution_count": null,
      "outputs": []
    },
    {
      "cell_type": "code",
      "metadata": {
        "id": "rC9iH9G-2I5X"
      },
      "source": [
        "data.iloc[[  2,  23,  63, 193],:]"
      ],
      "execution_count": null,
      "outputs": []
    },
    {
      "cell_type": "code",
      "metadata": {
        "id": "jxxVC96k2Iom"
      },
      "source": [
        "data.info()"
      ],
      "execution_count": null,
      "outputs": []
    },
    {
      "cell_type": "code",
      "metadata": {
        "id": "U3hXbXnZ2ImA"
      },
      "source": [
        "data['Last Rating'] = data['Last Rating'].apply(lambda x: str(x))\n",
        "data.info()"
      ],
      "execution_count": null,
      "outputs": []
    },
    {
      "cell_type": "code",
      "metadata": {
        "id": "snBao3FR2IjY"
      },
      "source": [
        "def to_float(x):\n",
        "    try:\n",
        "        return float(x)\n",
        "    except ValueError as v:\n",
        "        return float(x.replace(' ',''))\n",
        "data['Tenure'] = data['Tenure'].apply(to_float)\n",
        "data.head(10)"
      ],
      "execution_count": null,
      "outputs": []
    },
    {
      "cell_type": "code",
      "metadata": {
        "id": "KcogXuP32Igt"
      },
      "source": [
        "from datetime import datetime\n",
        "def converter(x):\n",
        "    try:\n",
        "        return datetime.strptime(x, '%d-%b-%y')\n",
        "    except:\n",
        "        return datetime.strptime(x, '%d-%m-%y')  # for these values in DOJ column '''05-07-10,02-09-10,01-08-11,12-03-04,05-07-10,,01-06-11,09-08-07,05-05-08,12-10-09,07-02-11'''\n",
        "\n",
        "data['DOL_date'] = data['In Active Date'].apply(converter)\n",
        "data['DOJ_date'] = data['DOJ'].apply(converter)\n",
        "data.head()"
      ],
      "execution_count": null,
      "outputs": []
    },
    {
      "cell_type": "code",
      "metadata": {
        "id": "_Two3lp02Iek"
      },
      "source": [
        "data.drop(['DOJ','In Active Date'], axis = 1, inplace =True)"
      ],
      "execution_count": null,
      "outputs": []
    },
    {
      "cell_type": "code",
      "metadata": {
        "id": "Oudot0ZG2Ici"
      },
      "source": [
        "data['Designation'].value_counts()"
      ],
      "execution_count": null,
      "outputs": []
    },
    {
      "cell_type": "code",
      "metadata": {
        "id": "KOSO8gHk2Iai"
      },
      "source": [
        "data['Grade'].value_counts()"
      ],
      "execution_count": null,
      "outputs": []
    },
    {
      "cell_type": "code",
      "metadata": {
        "id": "1Wkw20Kn2jXp"
      },
      "source": [
        "data.groupby('Designation')['Grade'].apply(lambda x: x.unique())"
      ],
      "execution_count": null,
      "outputs": []
    },
    {
      "cell_type": "code",
      "metadata": {
        "id": "ZDim_jVZ2jUJ"
      },
      "source": [
        "data['Zone'].value_counts()"
      ],
      "execution_count": null,
      "outputs": []
    },
    {
      "cell_type": "code",
      "metadata": {
        "id": "4sc292xu2jR1"
      },
      "source": [
        "data['Zone'] = data['Zone'].apply(lambda x: x.lower()) ## CENTRAL and central, north and North, south and South pairs were present\n",
        "data['Zone'].value_counts()"
      ],
      "execution_count": null,
      "outputs": []
    },
    {
      "cell_type": "code",
      "metadata": {
        "id": "nVqIJDK32jPz"
      },
      "source": [
        "data['Marital Status'].value_counts()"
      ],
      "execution_count": null,
      "outputs": []
    },
    {
      "cell_type": "code",
      "metadata": {
        "id": "wZOgHdib2jIO"
      },
      "source": [
        "data['Gender'].value_counts()"
      ],
      "execution_count": null,
      "outputs": []
    },
    {
      "cell_type": "code",
      "metadata": {
        "id": "1SSC92fc2tc-"
      },
      "source": [
        "data['Education'].value_counts()"
      ],
      "execution_count": null,
      "outputs": []
    },
    {
      "cell_type": "code",
      "metadata": {
        "id": "QIDz7ICm2taO"
      },
      "source": [
        "data.columns"
      ],
      "execution_count": null,
      "outputs": []
    },
    {
      "cell_type": "code",
      "metadata": {
        "id": "3UC1HCDH2tYB"
      },
      "source": [
        "data.drop(['EmpID','Emp Name','Attrition ','Designation'],axis =1 , inplace =True)\n",
        "data.head()"
      ],
      "execution_count": null,
      "outputs": []
    },
    {
      "cell_type": "markdown",
      "metadata": {
        "id": "RP0BAKml5l70"
      },
      "source": [
        "**Feature Engineering**"
      ]
    },
    {
      "cell_type": "code",
      "metadata": {
        "id": "n-d-VKHi2tVT"
      },
      "source": [
        "data['tenure_days'] = (data['DOL_date'] - data['DOJ_date']).apply(lambda x:x.days)\n",
        "data.head()"
      ],
      "execution_count": null,
      "outputs": []
    },
    {
      "cell_type": "code",
      "metadata": {
        "id": "3PYFE_A32tSy"
      },
      "source": [
        "data.columns"
      ],
      "execution_count": null,
      "outputs": []
    },
    {
      "cell_type": "code",
      "metadata": {
        "id": "K2yO1qBw2tPw"
      },
      "source": [
        "data = data.rename(columns = {'S.No':'id', 'Last Rating':'rating','Monthly Income':'income','Marital Status': 'marital_status'})\n",
        "data.head()"
      ],
      "execution_count": null,
      "outputs": []
    },
    {
      "cell_type": "code",
      "metadata": {
        "id": "Xv2TdVgu2tNF"
      },
      "source": [
        "data.columns = [col.lower() for col in data.columns]\n",
        "data.head()"
      ],
      "execution_count": null,
      "outputs": []
    },
    {
      "cell_type": "code",
      "metadata": {
        "id": "tvV33C8Y2tKw"
      },
      "source": [
        "data['location'].isna().sum()"
      ],
      "execution_count": null,
      "outputs": []
    },
    {
      "cell_type": "code",
      "metadata": {
        "id": "2g52S8Ww2tIk"
      },
      "source": [
        "data.columns"
      ],
      "execution_count": null,
      "outputs": []
    },
    {
      "cell_type": "code",
      "metadata": {
        "id": "fs9jagjN3IDn"
      },
      "source": [
        "data = data.drop(['doubtful','location','changed'] ,axis = 1)"
      ],
      "execution_count": null,
      "outputs": []
    },
    {
      "cell_type": "code",
      "metadata": {
        "id": "v1qGvOf93IAe"
      },
      "source": [
        "data.head()\n",
        "data.shape"
      ],
      "execution_count": null,
      "outputs": []
    },
    {
      "cell_type": "code",
      "metadata": {
        "id": "KUUOjd9d3H-B"
      },
      "source": [
        "data.to_csv('data_complete_location.csv', index= False)"
      ],
      "execution_count": null,
      "outputs": []
    },
    {
      "cell_type": "markdown",
      "metadata": {
        "id": "H_QQtVpW5qMA"
      },
      "source": [
        "**EXPLORATORY DATA ANALYSIS**"
      ]
    },
    {
      "cell_type": "markdown",
      "metadata": {
        "id": "HW2wNNFm5tvF"
      },
      "source": [
        "Univariate visualization"
      ]
    },
    {
      "cell_type": "code",
      "metadata": {
        "id": "gtanGV9W3H7Z"
      },
      "source": [
        "numeric_col = [col for col in data.columns if data[col].dtype in ['int64','int32','float64'] and col not in ['id','tenure']]\n",
        "numeric_col"
      ],
      "execution_count": null,
      "outputs": []
    },
    {
      "cell_type": "code",
      "metadata": {
        "id": "c_l_Vjb23H4n"
      },
      "source": [
        "data[numeric_col].hist(figsize=(16, 8));"
      ],
      "execution_count": null,
      "outputs": []
    },
    {
      "cell_type": "code",
      "metadata": {
        "id": "JhohD63q3YGX"
      },
      "source": [
        "_, axes = plt.subplots(nrows=2, ncols=2, figsize=(16, 8))\n",
        "i = 0\n",
        "j = 0\n",
        "for col in numeric_col:\n",
        "    _=sns.distplot(data[col], ax=axes[i][j]);\n",
        "    _=plt.xticks(rotation=90)\n",
        "    j+=1\n",
        "    if j==2:\n",
        "        i+=1\n",
        "        j=0"
      ],
      "execution_count": null,
      "outputs": []
    },
    {
      "cell_type": "code",
      "metadata": {
        "id": "QT_SoZLI3bmZ"
      },
      "source": [
        "_, axes = plt.subplots(nrows=2, ncols=2, figsize=(16, 8))\n",
        "i = 0\n",
        "j = 0\n",
        "for col in numeric_col:\n",
        "    _=sns.boxplot(data[col], ax=axes[i][j]);\n",
        "    _=plt.xticks(rotation=90)\n",
        "    j+=1\n",
        "    if j==2:\n",
        "        i+=1\n",
        "        j=0"
      ],
      "execution_count": null,
      "outputs": []
    },
    {
      "cell_type": "code",
      "metadata": {
        "id": "ZYwVyHLA3bjI"
      },
      "source": [
        "cat_cols = [col for col in data.columns if data[col].dtype == 'object']\n",
        "cat_cols"
      ],
      "execution_count": null,
      "outputs": []
    },
    {
      "cell_type": "code",
      "metadata": {
        "id": "p4MWLKam3bg4"
      },
      "source": [
        "%matplotlib inline\n",
        "_, axes = plt.subplots(nrows=5, ncols=2,sharey=True, figsize=(16, 24))\n",
        "# plt.subplot_tool() ## Works for interactive\n",
        "plt.subplots_adjust(hspace=0.8)\n",
        "i = 0\n",
        "j = 0\n",
        "for col in cat_cols:\n",
        "    if col == 'location': continue\n",
        "    g=sns.countplot(x=col, data=data, ax=axes[i][j], order = list(data[col].value_counts().reset_index()['index']));\n",
        "    if col in  ['remarks','corrected_location','district','state']:\n",
        "        _=g.set_xticklabels(g.get_xticklabels(), rotation=90)\n",
        "#     _ = plt.xticks(rotation=90)\n",
        "    j+=1\n",
        "    if j==2:\n",
        "        i+=1\n",
        "        j=0"
      ],
      "execution_count": null,
      "outputs": []
    },
    {
      "cell_type": "markdown",
      "metadata": {
        "id": "4-MC_d5z5yaG"
      },
      "source": [
        "Multivariate visualization"
      ]
    },
    {
      "cell_type": "code",
      "metadata": {
        "id": "pI6eqg043bek"
      },
      "source": [
        "corr_matrix = data[numeric_col].corr()\n",
        "sns.heatmap(corr_matrix, annot = True);"
      ],
      "execution_count": null,
      "outputs": []
    },
    {
      "cell_type": "code",
      "metadata": {
        "id": "KutXmTZz3bcY"
      },
      "source": [
        "numeric_col"
      ],
      "execution_count": null,
      "outputs": []
    },
    {
      "cell_type": "code",
      "metadata": {
        "id": "cokTWOse3a4y"
      },
      "source": [
        "cat_cols"
      ],
      "execution_count": null,
      "outputs": []
    },
    {
      "cell_type": "code",
      "metadata": {
        "id": "tcbbGbbl3tIr"
      },
      "source": [
        "_, axes = plt.subplots(nrows=5, ncols=2,sharey=True, figsize=(16, 30))\n",
        "plt.subplots_adjust(hspace=0.8)\n",
        "\n",
        "i = 0\n",
        "j = 0\n",
        "for col in cat_cols:\n",
        "    if col == 'location': continue\n",
        "    g=sns.boxplot(x=col,y='tenure_days', data=data, ax=axes[i][j]);\n",
        "    if col in  ['remarks','corrected_location','district','state']:\n",
        "        _=g.set_xticklabels(g.get_xticklabels(), rotation=90)\n",
        "#     _ = plt.xticks(rotation=90)\n",
        "    j+=1\n",
        "    if j==2:\n",
        "        i+=1\n",
        "        j=0"
      ],
      "execution_count": null,
      "outputs": []
    },
    {
      "cell_type": "code",
      "metadata": {
        "id": "18lcj4gu3tGQ"
      },
      "source": [
        "plt.figure(figsize= (8,6))\n",
        "sns.boxplot(x='grade', y='income', data=data[data['income']<1e5], order = sorted(data['grade'].unique()));"
      ],
      "execution_count": null,
      "outputs": []
    },
    {
      "cell_type": "markdown",
      "metadata": {
        "id": "GuOUcZwS51wl"
      },
      "source": [
        "**CLUSTERING**"
      ]
    },
    {
      "cell_type": "code",
      "metadata": {
        "id": "fWkLQRrw3tED"
      },
      "source": [
        "%reset -f\n"
      ],
      "execution_count": null,
      "outputs": []
    },
    {
      "cell_type": "code",
      "metadata": {
        "id": "RQvL-ZBp3tBs"
      },
      "source": [
        "import pandas as pd\n",
        "import numpy as np\n",
        "from matplotlib import pyplot as plt\n",
        "%matplotlib inline \n",
        "import seaborn as sns\n",
        "sns.set()"
      ],
      "execution_count": null,
      "outputs": []
    },
    {
      "cell_type": "code",
      "metadata": {
        "id": "Ixt11pm53s_Q"
      },
      "source": [
        "data = pd.read_csv('data_complete_location.csv')\n",
        "data.head()"
      ],
      "execution_count": null,
      "outputs": []
    },
    {
      "cell_type": "code",
      "metadata": {
        "id": "rmFfEooy3s80"
      },
      "source": [
        "from sklearn.cluster import KMeans\n",
        "from sklearn.preprocessing import StandardScaler\n",
        "# Filter data\n",
        "left_emp =  data[['sat_score', 'rating']]\n",
        "# Create groups using K-means clustering.\n",
        "\n",
        "ss= StandardScaler()\n",
        "left_emp_scaled = ss.fit_transform(left_emp)\n",
        "left_emp_scaled.shape\n",
        "kmeans = KMeans(n_clusters = 4, random_state = 10).fit(left_emp_scaled)"
      ],
      "execution_count": null,
      "outputs": []
    },
    {
      "cell_type": "code",
      "metadata": {
        "id": "82W8qCRM38U1"
      },
      "source": [
        "left_emp['label'] = kmeans.labels_\n",
        "# Draw scatter plot\n",
        "_ = plt.scatter(left_emp['sat_score'], left_emp['rating'], c=left_emp['label'],cmap='Accent')\n",
        "_ = plt.xlabel('Satisfaction Level')\n",
        "_ = plt.ylabel('Last Evaluation')\n",
        "_ = plt.title('4 Clusters of employees who left')\n",
        "plt.show()"
      ],
      "execution_count": null,
      "outputs": []
    },
    {
      "cell_type": "code",
      "metadata": {
        "id": "48SXZNej38R0"
      },
      "source": [
        "left_emp =  data[['tenure', 'income']]\n",
        "left_emp = left_emp[left_emp['income']<1e5]\n",
        "# Create groups using K-means clustering.\n",
        "\n",
        "ss= StandardScaler()\n",
        "left_emp_scaled = ss.fit_transform(left_emp)\n",
        "left_emp_scaled.shape\n",
        "kmeans = KMeans(n_clusters =4 , random_state = 10).fit(left_emp_scaled)\n",
        "\n",
        "left_emp['label'] = kmeans.labels_\n",
        "# Draw scatter plot\n",
        "_ = plt.scatter(left_emp['tenure'], left_emp['income'], c=left_emp['label'],cmap='Accent')\n",
        "_ = plt.xlabel('Tenure')\n",
        "_ = plt.ylabel('Income')\n",
        "_ = plt.title('4 Clusters of employees who left')\n",
        "plt.show()"
      ],
      "execution_count": null,
      "outputs": []
    },
    {
      "cell_type": "code",
      "metadata": {
        "id": "Z3LiiML138Pc"
      },
      "source": [
        "left_emp =  data[['age', 'income']]\n",
        "left_emp = left_emp[left_emp['income']<1e5]\n",
        "# Create groups using K-means clustering.\n",
        "\n",
        "ss= StandardScaler()\n",
        "left_emp_scaled = ss.fit_transform(left_emp)\n",
        "left_emp_scaled.shape\n",
        "kmeans = KMeans(n_clusters =6 , random_state = 10).fit(left_emp_scaled)\n",
        "\n",
        "left_emp['label'] = kmeans.labels_\n",
        "# Draw scatter plot\n",
        "_=plt.scatter(left_emp['age'], left_emp['income'], c=left_emp['label'],cmap='Accent')\n",
        "_=plt.xlabel('Age')\n",
        "_=plt.ylabel('Income')\n",
        "_=plt.title('6 Clusters of employees who left')\n",
        "plt.show()"
      ],
      "execution_count": null,
      "outputs": []
    },
    {
      "cell_type": "markdown",
      "metadata": {
        "id": "jYzdimiK56DZ"
      },
      "source": [
        "**FREQUENT PATTERN MINING**"
      ]
    },
    {
      "cell_type": "code",
      "metadata": {
        "id": "hIHTko4C38M9"
      },
      "source": [
        "%reset -f\n"
      ],
      "execution_count": null,
      "outputs": []
    },
    {
      "cell_type": "code",
      "metadata": {
        "id": "OKA4NB3L38Jd"
      },
      "source": [
        "import pandas as pd\n",
        "import numpy as np\n",
        "from matplotlib import pyplot as plt\n",
        "%matplotlib inline \n",
        "import seaborn as sns\n",
        "sns.set()"
      ],
      "execution_count": null,
      "outputs": []
    },
    {
      "cell_type": "code",
      "metadata": {
        "id": "ZxfWeAhR38Gm"
      },
      "source": [
        "data = pd.read_csv('data_complete_location.csv')\n",
        "data.head()"
      ],
      "execution_count": null,
      "outputs": []
    },
    {
      "cell_type": "code",
      "metadata": {
        "id": "pARxAIIg38EL"
      },
      "source": [
        "grade_int = {'E1':1,'E2':2,'M1':3,'M2':4,'M3':5,'M4':6,'CXO':7}\n",
        "data['grade_int'] = data['grade'].apply(lambda x: grade_int[x])"
      ],
      "execution_count": null,
      "outputs": []
    },
    {
      "cell_type": "code",
      "metadata": {
        "id": "1n-9mtK34MhX"
      },
      "source": [
        "not_required =  ['grade','dol_date','doj_date','id','corrected_location','district']\n",
        "selected_cats = [ col for col in data.columns if data[col].dtype=='object' and col not in not_required]\n",
        "selected_cats"
      ],
      "execution_count": null,
      "outputs": []
    },
    {
      "cell_type": "code",
      "metadata": {
        "id": "1AZfnaw56DGL"
      },
      "source": [
        ""
      ],
      "execution_count": null,
      "outputs": []
    },
    {
      "cell_type": "code",
      "metadata": {
        "id": "BJj5FN7e4Me-"
      },
      "source": [
        "selected_nums = [col for col in data.columns if col not in selected_cats+not_required]\n",
        "selected_nums"
      ],
      "execution_count": null,
      "outputs": []
    },
    {
      "cell_type": "markdown",
      "metadata": {
        "id": "ZkzSNH816BD5"
      },
      "source": [
        "**Frequent Item Sets**\n",
        "Some points to be noted:\n",
        "\n",
        "Income is dependent on the grade of the employee.\n",
        "Age and income are positively correlated\n",
        "Due to the above two points, only grade is considered for the frequent item sets calculation\n",
        "Tenure and sat_score are binned so as to be used for frequent itemset calculation purpose."
      ]
    },
    {
      "cell_type": "code",
      "metadata": {
        "id": "-3Fda7024Mb5"
      },
      "source": [
        "sns.distplot(data['tenure'])\n",
        "sns.distplot(data['sat_score'])\n"
      ],
      "execution_count": null,
      "outputs": []
    },
    {
      "cell_type": "code",
      "metadata": {
        "id": "XP7jb7_c4MY7"
      },
      "source": [
        "def sat_binner(x):\n",
        "    return x//20 + 1 if not x%20 == 0 else x//20\n",
        "data['sat_binned'] = data['sat_score'].apply(sat_binner).astype('object')"
      ],
      "execution_count": null,
      "outputs": []
    },
    {
      "cell_type": "code",
      "metadata": {
        "id": "a9c8acoi4MVa"
      },
      "source": [
        "def tenure_binner(x):\n",
        "    return x//2 + 1 if not x%2 == 0 else x//2\n",
        "data['tenure_binned'] = data['tenure'].apply(tenure_binner).astype('object')"
      ],
      "execution_count": null,
      "outputs": []
    },
    {
      "cell_type": "code",
      "metadata": {
        "id": "0pDmtkQd4MSi"
      },
      "source": [
        "cols_for_frequent_items = ['grade','gender','education','rating','marital_status','zone','remarks','tenure_binned','sat_binned']\n",
        "data_fp = data[cols_for_frequent_items]\n",
        "data_fp_enc = pd.get_dummies(data_fp, columns = data_fp.columns)\n",
        "data_fp_enc.head()"
      ],
      "execution_count": null,
      "outputs": []
    },
    {
      "cell_type": "code",
      "metadata": {
        "id": "Ex1H8Z224MPV"
      },
      "source": [
        "pd.set_option('max_colwidth', 100)\n"
      ],
      "execution_count": null,
      "outputs": []
    },
    {
      "cell_type": "code",
      "metadata": {
        "id": "yQU9KE_N4MMV"
      },
      "source": [
        "pip install mlxtend\n"
      ],
      "execution_count": null,
      "outputs": []
    },
    {
      "cell_type": "code",
      "metadata": {
        "id": "W4TTdBWL4MJq"
      },
      "source": [
        "from mlxtend.frequent_patterns import apriori\n",
        "\n",
        "freq_pattern = apriori(data_fp_enc, min_support=0.20, use_colnames=True)\n",
        "freq_pattern['length'] = freq_pattern['itemsets'].apply(lambda x: len(x) )\n",
        "freq_pattern[freq_pattern['length']>=4].sort_values('support',ascending= False)"
      ],
      "execution_count": null,
      "outputs": []
    },
    {
      "cell_type": "code",
      "metadata": {
        "id": "HE_sf5N34MHI"
      },
      "source": [
        "fp2 = data[(data['gender']== 'Male') & (data['grade']=='E1') & (data['education'] =='Bachelors') & (data['tenure']<=2) ]\n",
        "fp2.groupby('remarks').size().sort_values(ascending = False)"
      ],
      "execution_count": null,
      "outputs": []
    },
    {
      "cell_type": "code",
      "metadata": {
        "id": "wOKig0Yi4MEn"
      },
      "source": [
        "# Interesting FP \n",
        "fp1 = data[(data['gender']== 'Male') & (data['grade']=='E1') & (data['education'] =='Bachelors') & (data['remarks']=='Issues with the Manager') ]\n"
      ],
      "execution_count": null,
      "outputs": []
    },
    {
      "cell_type": "markdown",
      "metadata": {
        "id": "v_46nBbd6G7X"
      },
      "source": [
        "**TENURE PREDICTION**"
      ]
    },
    {
      "cell_type": "code",
      "metadata": {
        "id": "3SyHqk8x4vGe"
      },
      "source": [
        "%reset -f\n"
      ],
      "execution_count": null,
      "outputs": []
    },
    {
      "cell_type": "code",
      "metadata": {
        "id": "mD1oNDsB4vDC"
      },
      "source": [
        "import pandas as pd\n",
        "import numpy as np\n",
        "from matplotlib import pyplot as plt\n",
        "import seaborn as sns"
      ],
      "execution_count": null,
      "outputs": []
    },
    {
      "cell_type": "code",
      "metadata": {
        "id": "lWN_rCef4vAL"
      },
      "source": [
        "from sklearn.preprocessing import StandardScaler\n",
        "from xgboost import XGBRegressor\n",
        "from sklearn.linear_model import LinearRegression, Lasso, Ridge\n",
        "# from sklearn.svm import SVR\n",
        "from sklearn.tree import DecisionTreeRegressor\n",
        "from sklearn.dummy import DummyRegressor\n",
        "# from sklearn.neighbors import KNeighborsRegressor\n",
        "from sklearn.metrics import mean_squared_error, mean_absolute_error"
      ],
      "execution_count": null,
      "outputs": []
    },
    {
      "cell_type": "code",
      "metadata": {
        "id": "sxDBL9A44u9X"
      },
      "source": [
        "from math import sqrt\n",
        "np.random.seed(42)"
      ],
      "execution_count": null,
      "outputs": []
    },
    {
      "cell_type": "code",
      "metadata": {
        "id": "bb6_0-5F4u4T"
      },
      "source": [
        "data = pd.read_csv('data_complete_location.csv')\n",
        "data.head()"
      ],
      "execution_count": null,
      "outputs": []
    },
    {
      "cell_type": "code",
      "metadata": {
        "id": "robSN8VT46rv"
      },
      "source": [
        "data_pred = data[['id','grade','tenure','gender','education','age','rating','income','sat_score','marital_status',\\\n",
        "                 'zone','remarks']]"
      ],
      "execution_count": null,
      "outputs": []
    },
    {
      "cell_type": "code",
      "metadata": {
        "id": "Tcgk--8u46ox"
      },
      "source": [
        "X = data_pred.drop(['id','tenure'], axis =1)\n",
        "y = data_pred['tenure']"
      ],
      "execution_count": null,
      "outputs": []
    },
    {
      "cell_type": "code",
      "metadata": {
        "id": "AO4w82yP46k8"
      },
      "source": [
        "selected_cats = [col for col in X.columns if X[col].dtype == 'object']\n",
        "selected_nums = [col for col in X.columns if col  not in selected_cats]"
      ],
      "execution_count": null,
      "outputs": []
    },
    {
      "cell_type": "code",
      "metadata": {
        "id": "JFW-fa5446iT"
      },
      "source": [
        "X = pd.get_dummies(X, columns = selected_cats)\n",
        "train_samples = int(0.9*data_pred.shape[0])\n",
        "train_indices = list(range(train_samples))\n",
        "val_indices = list(range(train_samples, data_pred.shape[0]))\n",
        "train_X = X.loc[train_indices, : ]\n",
        "train_y = y.loc[train_indices]\n",
        "val_X = X.loc[val_indices, : ]\n",
        "val_y = y.loc[val_indices]\n",
        "\n",
        "train_X.shape\n",
        "train_y.shape\n",
        "val_X.shape\n",
        "val_y.shape"
      ],
      "execution_count": null,
      "outputs": []
    },
    {
      "cell_type": "code",
      "metadata": {
        "id": "yFaQHwPE46ff"
      },
      "source": [
        "ss= StandardScaler()\n",
        "train_X_scaled = pd.DataFrame(ss.fit_transform(train_X), columns = train_X.columns)\n",
        "train_y_logged = np.log1p(train_y)\n",
        "val_X_scaled = pd.DataFrame(ss.transform(val_X), columns = val_X.columns)\n",
        "# val_y = np.log1p(val_y)"
      ],
      "execution_count": null,
      "outputs": []
    },
    {
      "cell_type": "code",
      "metadata": {
        "id": "v59EY9wn46cw"
      },
      "source": [
        "def fit_model(model):\n",
        "    if model == DecisionTreeRegressor:\n",
        "        reg = model(random_state = 291)\n",
        "    else:\n",
        "        reg = model()\n",
        "    reg.fit(train_X_scaled, train_y_logged)\n",
        "    val_y_hat = np.expm1(reg.predict(val_X_scaled))\n",
        "    print(f'MAE: {mean_absolute_error(val_y_hat, val_y)}')\n",
        "    print(f'RMSE: {sqrt(mean_squared_error(val_y_hat, val_y))}')\n",
        "#     return sqrt(mean_squared_error(val_y_hat, val_y))\n",
        "    fig, ax = plt.subplots(1,2, figsize=(16,4))\n",
        "    \n",
        "    ax[0].plot(list(range(len(val_y))), val_y_hat, label= 'Predicted Tenure (in yrs)')\n",
        "    ax[0].plot(list(range(len(val_y))), val_y, label = 'Original  Tenure (in yrs)')\n",
        "    ax[0].legend(loc = 'best')\n",
        "    ax[0].set_title('Predictions')\n",
        "    \n",
        "    print(f'Using model : {model}')\n",
        "    if model in [Lasso, Ridge, LinearRegression]:\n",
        "        coeff_df = pd.DataFrame(reg.coef_, train_X_scaled.columns, columns=['Coefficient'])  \n",
        "\n",
        "    elif model in [XGBRegressor,DecisionTreeRegressor]:\n",
        "        coeff_df = pd.DataFrame(reg.feature_importances_, train_X_scaled.columns, columns=['Coefficient'])  \n",
        "        \n",
        "    else:\n",
        "        print(\"No feature importance graph for DummyRegressor\")\n",
        "        return \n",
        "    \n",
        "    coeff_df[\"abs\"] = coeff_df.Coefficient.apply(np.abs)\n",
        "    coeff_df = coeff_df.sort_values(by=\"abs\", ascending=False).drop(\"abs\", axis=1)\n",
        "    \n",
        "    ax[1].bar(coeff_df.index[:15],coeff_df['Coefficient'][:15])\n",
        "    _ = plt.xticks(rotation=90)\n",
        "    ax[1].set_title('Feature importance')"
      ],
      "execution_count": null,
      "outputs": []
    },
    {
      "cell_type": "code",
      "metadata": {
        "id": "r5OmpBWK46Z8"
      },
      "source": [
        "fit_model(DummyRegressor)\n"
      ],
      "execution_count": null,
      "outputs": []
    },
    {
      "cell_type": "code",
      "metadata": {
        "id": "jLCFk8tm5Kh9"
      },
      "source": [
        "fit_model(LinearRegression)\n"
      ],
      "execution_count": null,
      "outputs": []
    },
    {
      "cell_type": "code",
      "metadata": {
        "id": "L7N9egIn5Ke2"
      },
      "source": [
        "fit_model(XGBRegressor)\n"
      ],
      "execution_count": null,
      "outputs": []
    },
    {
      "cell_type": "code",
      "metadata": {
        "id": "RahWXlam5Kbb"
      },
      "source": [
        "def plot_ensemble(model1, model2):\n",
        "    if model1 == DecisionTreeRegressor:\n",
        "        m1  = model1(random_state=291)\n",
        "    else:\n",
        "        m1 = model1()\n",
        "    m1.fit(train_X_scaled, train_y_logged)\n",
        "    m2 = model2()\n",
        "    m2.fit(train_X_scaled, train_y_logged)\n",
        "    val_y_hat = (np.expm1(m1.predict(val_X_scaled)) + np.expm1(m2.predict(val_X_scaled)))/2.0\n",
        "    print(f'MAE: {mean_absolute_error(val_y_hat, val_y)}')\n",
        "    print(f'RMSE: {sqrt(mean_squared_error(val_y_hat, val_y))}')\n",
        "    \n",
        "    fig, ax = plt.subplots(1,1)\n",
        "    \n",
        "    ax.plot(list(range(len(val_y))), val_y_hat, label= 'Predicted Tenure (in yrs)')\n",
        "    ax.plot(list(range(len(val_y))), val_y, label = 'Original  Tenure (in yrs)')\n",
        "    ax.legend(loc = 'best')\n",
        "    ax.set_title('Predictions')"
      ],
      "execution_count": null,
      "outputs": []
    },
    {
      "cell_type": "code",
      "metadata": {
        "id": "it-BrYmJ5KYb"
      },
      "source": [
        "plot_ensemble(LinearRegression, XGBRegressor)\n"
      ],
      "execution_count": null,
      "outputs": []
    },
    {
      "cell_type": "code",
      "metadata": {
        "id": "ZR6B1GVX5KVm"
      },
      "source": [
        "plot_ensemble(DecisionTreeRegressor, XGBRegressor)\n"
      ],
      "execution_count": null,
      "outputs": []
    }
  ]
}